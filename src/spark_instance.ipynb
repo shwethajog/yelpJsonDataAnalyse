{
 "cells": [
  {
   "cell_type": "code",
   "execution_count": null,
   "metadata": {},
   "outputs": [],
   "source": [
    "# import necessary libraries\n",
    "import pandas as pd \n",
    "import numpy\n",
    "import matplotlib.pyplot as plt \n",
    "from pyspark.sql import SparkSession\n",
    "from pyspark.sql import SQLContext\n",
    "import matplotlib.pyplot as plt\n",
    "from pyspark.sql.window import Window \n",
    "import datetime\n",
    "\n",
    "\n",
    "\n",
    "\n",
    "# create sparksession\n",
    "spark = SparkSession \\\n",
    "    .builder \\\n",
    "    .appName(\"YelpDataAnalyze\") \\\n",
    "    .config(\"spark.some.config.option\", \"some-value\") \\\n",
    "    .getOrCreate()\n",
    "\n",
    " # Create an sql context so that we can query data files in sql like syntax\n",
    "sqlContext = SQLContext (spark)"
   ]
  },
  {
   "cell_type": "code",
   "execution_count": 71,
   "metadata": {},
   "outputs": [],
   "source": [
    "tips = sqlContext.read.json (\"../input/tip.json\")\n",
    "users = sqlContext.read.json (\"../input/user.json\")\n",
    "reviews = sqlContext.read.json (\"../input/review.json\")\n",
    "checkins = sqlContext.read.json (\"../input/checkin.json\")\n",
    "photos = sqlContext.read.json (\"../input/photo.json\")\n",
    "businesses = sqlContext.read.json (\"../input/business.json\")"
   ]
  },
  {
   "cell_type": "code",
   "execution_count": 17,
   "metadata": {},
   "outputs": [],
   "source": [
    "tips.createOrReplaceTempView('tips')\n",
    "users.createOrReplaceTempView('users')\n",
    "reviews.createOrReplaceTempView('reviews')\n",
    "checkins.createOrReplaceTempView('checkins')\n",
    "photos.createOrReplaceTempView('photos')\n",
    "businesses.createOrReplaceTempView('businesses')"
   ]
  },
  {
   "cell_type": "code",
   "execution_count": 18,
   "metadata": {},
   "outputs": [
    {
     "name": "stdout",
     "output_type": "stream",
     "text": [
      "+--------------------+--------------------+--------------------+--------------------+-------------+--------------------+-------+-------------+---------------+--------------------+-----------+------------+-----+-----+\n",
      "|             address|          attributes|         business_id|          categories|         city|               hours|is_open|     latitude|      longitude|                name|postal_code|review_count|stars|state|\n",
      "+--------------------+--------------------+--------------------+--------------------+-------------+--------------------+-------+-------------+---------------+--------------------+-----------+------------+-----+-----+\n",
      "|2818 E Camino Ace...|[,,,,,,,,,,,,,,,,...|1SWheh84yJXfytovI...|   Golf, Active Life|      Phoenix|                null|      0|   33.5221425|   -112.0184807|Arizona Biltmore ...|      85016|           5|  3.0|   AZ|\n",
      "|30 Eglinton Avenue W|[,, u'full_bar', ...|QXAEGFB4oINsVuTFx...|Specialty Food, R...|  Mississauga|[9:0-1:0, 9:0-0:0...|      1|43.6054989743|  -79.652288909|Emerald Chinese R...|    L5R 3E7|         128|  2.5|   ON|\n",
      "|10110 Johnston Rd...|[,, u'beer_and_wi...|gnKjwL_1w79qoiV3I...|Sushi Bars, Resta...|    Charlotte|[17:30-22:0, 17:3...|      1|    35.092564|     -80.859132|Musashi Japanese ...|      28210|         170|  4.0|   NC|\n",
      "|15655 W Roosevelt...|                null|xvX2CttrVhyG2z1dF...|Insurance, Financ...|     Goodyear|[8:0-17:0, 8:0-17...|      1|33.4556129678|-112.3955963552|Farmers Insurance...|      85338|           3|  5.0|   AZ|\n",
      "|4209 Stuart Andre...|[,,,,,,,, False, ...|HhyxOkGAM07SRYtlQ...|Plumbing, Shoppin...|    Charlotte|[7:0-23:0, 7:0-23...|      1|   35.1900119|    -80.8872232| Queen City Plumbing|      28217|           4|  4.0|   NC|\n",
      "|Credit Valley Tow...|[,,,,,,,,,, {'gar...|68dUKd8_8liJ7in4a...|Shipping Centers,...|  Mississauga|[9:0-19:0, 9:0-19...|      1|   43.5994753|    -79.7115835|       The UPS Store|    L5V 0B1|           3|  2.5|   ON|\n",
      "|20 Douglas Woods ...|[,,,,,,,,,, {'gar...|5JucpCfHZltJh5r1J...|Beauty & Spas, Ha...|      Calgary|                null|      1|   50.9436456|   -114.0018283|    Edgeworxx Studio|    T2Z 1K4|           7|  3.5|   AB|\n",
      "|4545 E Tropicana ...|[,,,,,,, False,, ...|gbQN7vr_caG_A1ugS...|Hair Salons, Hair...|    Las Vegas|[10:0-19:0, 10:0-...|      1|    36.099872|    -115.074574|           Supercuts|      89121|           3|  3.5|   NV|\n",
      "|5940 W Union Hill...|[,,,,,,, False,, ...|Y6iyemLX_oylRpnr3...|Nail Salons, Beau...|     Glendale|[10:0-17:0,, 10:0...|      0|   33.6548146|   -112.1885676|Vita Bella Fine D...|      85308|           8|  5.0|   AZ|\n",
      "|     21689 Lorain Rd|[False,,,,,,,,, T...|4GBVPIYRvzGh4K4Tk...|Beauty & Spas, Na...|Fairview Park|[9:0-19:0,, 9:0-1...|      1|41.4408252653| -81.8540965503| Options Salon & Spa|      44126|           8|  4.5|   OH|\n",
      "+--------------------+--------------------+--------------------+--------------------+-------------+--------------------+-------+-------------+---------------+--------------------+-----------+------------+-----+-----+\n",
      "\n"
     ]
    }
   ],
   "source": [
    "sqlContext.sql(\n",
    "'''\n",
    "SELECT * FROM businesses\n",
    "LIMIT 10\n",
    "'''\n",
    ").show()"
   ]
  },
  {
   "cell_type": "code",
   "execution_count": 19,
   "metadata": {},
   "outputs": [
    {
     "data": {
      "text/plain": [
       "<bound method DataFrame.printSchema of DataFrame[address: string, attributes: struct<AcceptsInsurance:string,AgesAllowed:string,Alcohol:string,Ambience:string,BYOB:string,BYOBCorkage:string,BestNights:string,BikeParking:string,BusinessAcceptsBitcoin:string,BusinessAcceptsCreditCards:string,BusinessParking:string,ByAppointmentOnly:string,Caters:string,CoatCheck:string,Corkage:string,DietaryRestrictions:string,DogsAllowed:string,DriveThru:string,GoodForDancing:string,GoodForKids:string,GoodForMeal:string,HairSpecializesIn:string,HappyHour:string,HasTV:string,Music:string,NoiseLevel:string,Open24Hours:string,OutdoorSeating:string,RestaurantsAttire:string,RestaurantsCounterService:string,RestaurantsDelivery:string,RestaurantsGoodForGroups:string,RestaurantsPriceRange2:string,RestaurantsReservations:string,RestaurantsTableService:string,RestaurantsTakeOut:string,Smoking:string,WheelchairAccessible:string,WiFi:string>, business_id: string, categories: string, city: string, hours: struct<Friday:string,Monday:string,Saturday:string,Sunday:string,Thursday:string,Tuesday:string,Wednesday:string>, is_open: bigint, latitude: double, longitude: double, name: string, postal_code: string, review_count: bigint, stars: double, state: string]>"
      ]
     },
     "execution_count": 19,
     "metadata": {},
     "output_type": "execute_result"
    }
   ],
   "source": [
    "businesses.printSchema"
   ]
  },
  {
   "cell_type": "code",
   "execution_count": 21,
   "metadata": {},
   "outputs": [
    {
     "data": {
      "text/plain": [
       "DataFrame[AcceptsInsurance: string, AgesAllowed: string, Alcohol: string, Ambience: string, BYOB: string, BYOBCorkage: string, BestNights: string, BikeParking: string, BusinessAcceptsBitcoin: string, BusinessAcceptsCreditCards: string, BusinessParking: string, ByAppointmentOnly: string, Caters: string, CoatCheck: string, Corkage: string, DietaryRestrictions: string, DogsAllowed: string, DriveThru: string, GoodForDancing: string, GoodForKids: string, GoodForMeal: string, HairSpecializesIn: string, HappyHour: string, HasTV: string, Music: string, NoiseLevel: string, Open24Hours: string, OutdoorSeating: string, RestaurantsAttire: string, RestaurantsCounterService: string, RestaurantsDelivery: string, RestaurantsGoodForGroups: string, RestaurantsPriceRange2: string, RestaurantsReservations: string, RestaurantsTableService: string, RestaurantsTakeOut: string, Smoking: string, WheelchairAccessible: string, WiFi: string]"
      ]
     },
     "execution_count": 21,
     "metadata": {},
     "output_type": "execute_result"
    }
   ],
   "source": [
    "businesses.select(\"attributes.*\")"
   ]
  },
  {
   "cell_type": "code",
   "execution_count": 24,
   "metadata": {},
   "outputs": [
    {
     "name": "stdout",
     "output_type": "stream",
     "text": [
      "+----------+\n",
      "|    Friday|\n",
      "+----------+\n",
      "|      null|\n",
      "|   9:0-1:0|\n",
      "|17:30-22:0|\n",
      "|  8:0-17:0|\n",
      "|  7:0-23:0|\n",
      "|  9:0-19:0|\n",
      "|      null|\n",
      "| 10:0-19:0|\n",
      "| 10:0-17:0|\n",
      "|  9:0-19:0|\n",
      "|  9:0-17:0|\n",
      "|   7:0-1:0|\n",
      "|  10:0-1:0|\n",
      "|  10:0-1:0|\n",
      "| 11:0-17:0|\n",
      "|16:0-21:30|\n",
      "|  8:0-17:0|\n",
      "|      null|\n",
      "|   0:0-0:0|\n",
      "|  6:0-22:0|\n",
      "+----------+\n",
      "only showing top 20 rows\n",
      "\n"
     ]
    }
   ],
   "source": [
    "businesses.select(\"hours.Friday\").show()"
   ]
  },
  {
   "cell_type": "code",
   "execution_count": 25,
   "metadata": {},
   "outputs": [
    {
     "name": "stdout",
     "output_type": "stream",
     "text": [
      "+----------------+\n",
      "|count(review_id)|\n",
      "+----------------+\n",
      "|          873302|\n",
      "+----------------+\n",
      "\n"
     ]
    }
   ],
   "source": [
    "sqlContext.sql(\n",
    "'''SELECT COUNT(review_id)\n",
    "FROM reviews\n",
    "WHERE useful > 0 and funny > 0 and cool > 0'''\n",
    ").show()"
   ]
  },
  {
   "cell_type": "code",
   "execution_count": 26,
   "metadata": {},
   "outputs": [
    {
     "data": {
      "text/plain": [
       "6685900"
      ]
     },
     "execution_count": 26,
     "metadata": {},
     "output_type": "execute_result"
    }
   ],
   "source": [
    "reviews.count()"
   ]
  },
  {
   "cell_type": "code",
   "execution_count": 27,
   "metadata": {},
   "outputs": [
    {
     "name": "stdout",
     "output_type": "stream",
     "text": [
      "+--------------------+-----------+\n",
      "|           review_id|total_votes|\n",
      "+--------------------+-----------+\n",
      "|A8mLBytNM2zmjHgSp...|       2256|\n",
      "+--------------------+-----------+\n",
      "\n"
     ]
    }
   ],
   "source": [
    "sqlContext.sql(\n",
    "'''SELECT review_id, SUM(coalesce(useful, 0) + coalesce(funny,0) + coalesce(cool, 0)) as total_votes\n",
    "FROM reviews\n",
    "GROUP BY review_id\n",
    "order by 2 desc\n",
    "limit 1'''\n",
    ").show()"
   ]
  },
  {
   "cell_type": "code",
   "execution_count": 31,
   "metadata": {},
   "outputs": [
    {
     "name": "stdout",
     "output_type": "stream",
     "text": [
      "+--------------------+--------------------+-------------+\n",
      "|         business_id|       business_name|no_of_reviews|\n",
      "+--------------------+--------------------+-------------+\n",
      "|4JNXUYY8wbaaDmk3B...|        Mon Ami Gabi|         8570|\n",
      "|RESDUcs7fIiihp38-...|    Bacchanal Buffet|         8568|\n",
      "|K7lWdNUhCbcnEvI0N...|        Wicked Spoon|         6887|\n",
      "|f4x1YBxkLrZg652xt...|  Hash House A Go Go|         5847|\n",
      "|cYwJA2A6I12KNkm2r...| Gordon Ramsay BurGR|         5575|\n",
      "|DkYS3arLOhA8si5uU...|    Earl of Sandwich|         5206|\n",
      "|2weQS-RnoOBhb1KsH...|          The Buffet|         4534|\n",
      "|5LNZ67Yw9RD6nf4_U...|The Cosmopolitan ...|         4522|\n",
      "|iCQpiavjjPzJ5_3gP...|        Secret Pizza|         4351|\n",
      "|SMPbvZLSMMb7KU76Y...|ARIA Resort & Casino|         4350|\n",
      "|ujHiaprwCQ5ewziu0...|The Buffet at Bel...|         4318|\n",
      "|AV6weBrZFFBfRGCbc...|Luxor Hotel and C...|         4240|\n",
      "|KskYqH1Bi7Z_61pH6...|       Lotus of Siam|         4131|\n",
      "|El4FC8jcawUVgw_0E...|     MGM Grand Hotel|         4093|\n",
      "|rcaPajgKOJC2vo_l3...|             Bouchon|         4014|\n",
      "|eoHdUeQDNgQ6WYEnP...|       Serendipity 3|         4006|\n",
      "|FaHADZARwnY4yvlvp...|McCarran Internat...|         3710|\n",
      "|faPVqws-x-5k2CQKD...|Yardbird Southern...|         3662|\n",
      "|OETh78qcgDltvHULo...| Gordon Ramsay Steak|         3642|\n",
      "|Wxxvi3LZbHNIDwJ-Z...|The Venetian Las ...|         3579|\n",
      "+--------------------+--------------------+-------------+\n",
      "\n"
     ]
    }
   ],
   "source": [
    "sqlContext.sql(\n",
    "'''SELECT b.business_id, name as business_name,  count(*) as no_of_reviews\n",
    "FROM reviews r\n",
    "JOIN businesses b\n",
    "ON r.business_id = b.business_id\n",
    "group by b.business_id, b.name\n",
    "order by 3 desc\n",
    "limit 20'''\n",
    ").show()"
   ]
  },
  {
   "cell_type": "code",
   "execution_count": 44,
   "metadata": {},
   "outputs": [
    {
     "data": {
      "text/plain": [
       "Text(0.5, 1.0, 'Top 20 business who received highest reviews with their respective review count')"
      ]
     },
     "execution_count": 44,
     "metadata": {},
     "output_type": "execute_result"
    },
    {
     "data": {
      "text/plain": [
       "<Figure size 432x288 with 0 Axes>"
      ]
     },
     "metadata": {},
     "output_type": "display_data"
    },
    {
     "data": {
      "image/png": "[encoded data removed]",
      "text/plain": [
       "<Figure size 936x720 with 1 Axes>"
      ]
     },
     "metadata": {
      "needs_background": "light"
     },
     "output_type": "display_data"
    }
   ],
   "source": [
    "plt.clf()\n",
    "top_20_businesses = sqlContext.sql(\n",
    "'''SELECT b.business_id, name as business_name,  count(*) as no_of_reviews\n",
    "FROM reviews r\n",
    "JOIN businesses b\n",
    "ON r.business_id = b.business_id\n",
    "group by b.business_id, b.name\n",
    "order by 3 desc\n",
    "limit 20'''\n",
    ").toPandas();\n",
    "f, ax = plt.subplots()\n",
    "f.set_figheight(10)\n",
    "f.set_figwidth(13)\n",
    "top_20_businesses.plot(x='business_name', y='no_of_reviews', ax = ax, kind=\"bar\")\n",
    "plt.title('Top 20 business who received highest reviews with their respective review count')\n",
    "\n",
    "\n"
   ]
  },
  {
   "cell_type": "code",
   "execution_count": 74,
   "metadata": {},
   "outputs": [
    {
     "data": {
      "text/plain": [
       "<Figure size 432x288 with 0 Axes>"
      ]
     },
     "metadata": {},
     "output_type": "display_data"
    },
    {
     "data": {
      "image/png": "[encoded data removed]",
      "text/plain": [
       "<Figure size 432x288 with 1 Axes>"
      ]
     },
     "metadata": {
      "needs_background": "light"
     },
     "output_type": "display_data"
    }
   ],
   "source": [
    "plt.clf()\n",
    "top_20_businesses_locations = sqlContext.sql(\n",
    "'''SELECT b.business_id, name as business_name, latitude, longitude, count(*) as no_of_reviews\n",
    "FROM reviews r\n",
    "JOIN businesses b\n",
    "ON r.business_id = b.business_id\n",
    "group by b.business_id, b.name, b.latitude, b.longitude\n",
    "order by no_of_reviews desc\n",
    "limit 20'''\n",
    ").toPandas()\n",
    "top_20_businesses_locations.plot(kind=\"scatter\", x=\"longitude\", y=\"latitude\", alpha=0.4)\n",
    "plt.show()"
   ]
  },
  {
   "cell_type": "code",
   "execution_count": 103,
   "metadata": {},
   "outputs": [
    {
     "name": "stdout",
     "output_type": "stream",
     "text": [
      "+--------------------+-----+-----+\n",
      "|         business_id|month|total|\n",
      "+--------------------+-----+-----+\n",
      "|--1UhMGODdWsrMast...|    1|  1.0|\n",
      "|--1UhMGODdWsrMast...|    2|  1.0|\n",
      "|--1UhMGODdWsrMast...|    4|  3.0|\n",
      "|--1UhMGODdWsrMast...|    5|  5.0|\n",
      "|--1UhMGODdWsrMast...|    6|  5.0|\n",
      "|--1UhMGODdWsrMast...|    7|  3.0|\n",
      "|--1UhMGODdWsrMast...|    8|  3.0|\n",
      "|--1UhMGODdWsrMast...|    9|  1.0|\n",
      "|--1UhMGODdWsrMast...|   11|  1.0|\n",
      "|--1UhMGODdWsrMast...|   12|  3.0|\n",
      "|--6MefnULPED_I942...|    1|  6.0|\n",
      "|--6MefnULPED_I942...|    2|  4.0|\n",
      "|--6MefnULPED_I942...|    4|  2.0|\n",
      "|--6MefnULPED_I942...|    5|  4.0|\n",
      "|--6MefnULPED_I942...|    7|  4.0|\n",
      "|--6MefnULPED_I942...|    8|  8.0|\n",
      "|--6MefnULPED_I942...|    9|  4.0|\n",
      "|--6MefnULPED_I942...|   10|  4.0|\n",
      "|--6MefnULPED_I942...|   11|  4.0|\n",
      "|--6MefnULPED_I942...|   12|  6.0|\n",
      "+--------------------+-----+-----+\n",
      "only showing top 20 rows\n",
      "\n"
     ]
    }
   ],
   "source": [
    "businesses_moving_avg_month = sqlContext.sql(\"\"\"select business_id, month,avg(total_reviews)                                       \n",
    "                                          over (partition by business_id, month order by month)\n",
    "                                          as total\n",
    "                                from (select business_id, month(date) as month, count(*) as total_reviews\n",
    "                                from reviews\n",
    "                                group by business_id, month(date)) r\n",
    "                                order by business_id, month\"\"\")\n",
    "businesses_moving_avg_month.show()"
   ]
  },
  {
   "cell_type": "code",
   "execution_count": 109,
   "metadata": {},
   "outputs": [
    {
     "name": "stdout",
     "output_type": "stream",
     "text": [
      "+--------------------+--------------------+----+-----+-------------+\n",
      "|         business_id|       business_name|year|stars|total_reviews|\n",
      "+--------------------+--------------------+----+-----+-------------+\n",
      "|--1UhMGODdWsrMast...|    The Spicy Amigos|2018|  5.0|            2|\n",
      "|--1UhMGODdWsrMast...|    The Spicy Amigos|2017|  5.0|            7|\n",
      "|--1UhMGODdWsrMast...|    The Spicy Amigos|2016|  5.0|            4|\n",
      "|--6MefnULPED_I942...|John's Chinese BB...|2018|  5.0|            3|\n",
      "|--6MefnULPED_I942...|John's Chinese BB...|2017|  5.0|            2|\n",
      "|--6MefnULPED_I942...|John's Chinese BB...|2016|  5.0|            2|\n",
      "|--6MefnULPED_I942...|John's Chinese BB...|2015|  5.0|            1|\n",
      "|--6MefnULPED_I942...|John's Chinese BB...|2008|  5.0|            1|\n",
      "|--7zmmkVg-IMGaXbu...|      Primal Brewery|2018|  5.0|            7|\n",
      "|--7zmmkVg-IMGaXbu...|      Primal Brewery|2017|  5.0|            6|\n",
      "|--7zmmkVg-IMGaXbu...|      Primal Brewery|2016|  5.0|            7|\n",
      "|--7zmmkVg-IMGaXbu...|      Primal Brewery|2015|  5.0|            5|\n",
      "|--8LPVSo5i0Oo61X0...|Valley Bone and J...|2017|  5.0|            1|\n",
      "|--8LPVSo5i0Oo61X0...|Valley Bone and J...|2014|  5.0|            1|\n",
      "|--9QQLMTbFzLJ_oT-...|         Great Clips|2018|  5.0|            1|\n",
      "|--9QQLMTbFzLJ_oT-...|         Great Clips|2017|  5.0|            1|\n",
      "|--9QQLMTbFzLJ_oT-...|         Great Clips|2016|  5.0|            1|\n",
      "|--9QQLMTbFzLJ_oT-...|         Great Clips|2015|  5.0|            1|\n",
      "|--9QQLMTbFzLJ_oT-...|         Great Clips|2014|  5.0|            1|\n",
      "|--9QQLMTbFzLJ_oT-...|         Great Clips|2013|  5.0|            1|\n",
      "+--------------------+--------------------+----+-----+-------------+\n",
      "only showing top 20 rows\n",
      "\n"
     ]
    }
   ],
   "source": [
    "business_yoy_reviews_comparision = sqlContext.sql(\"\"\"select b.business_id, b.name as business_name, year(date) as year, r.stars, count(*) as total_reviews\n",
    "from reviews r\n",
    "join businesses b\n",
    "on b.business_id = r.business_id\n",
    "where r.stars>4\n",
    "group by b.business_id, name, year(date), r.stars\n",
    "order by b.business_id, year desc, total_reviews desc\"\"\")\n",
    "business_yoy_reviews_comparision.show()\n"
   ]
  },
  {
   "cell_type": "code",
   "execution_count": null,
   "metadata": {},
   "outputs": [],
   "source": [
    "business_pd = business_yoy_reviews_comparision.nlargest(20).toPandas()\n",
    "for business_id in business_pd:\n",
    "    #print(business_pd[\"business_id\"])\n",
    "    series = pd.Series(business_pd[\"total_reviews\"].values, index=business_pd[\"year\"].values, name='Trending business')\n",
    "    axes = series.plot(kind=\"bar\",figsize=(10, 7))\n",
    "    plt.xlabel('Year', axes=axes)\n",
    "    plt.ylabel('Total reviews', axes=axes)\n",
    "    plt.title('Review trend of {}'.format(business_pd[\"business_name\"]), axes=axes)\n",
    "    plt.show()\n"
   ]
  },
  {
   "cell_type": "code",
   "execution_count": 108,
   "metadata": {},
   "outputs": [
    {
     "name": "stdout",
     "output_type": "stream",
     "text": [
      "+--------------------+--------------------+----+-----+-------------+\n",
      "|         business_id|       business_name|year|stars|total_reviews|\n",
      "+--------------------+--------------------+----+-----+-------------+\n",
      "|vHz2RLtfUMVRPFmd7...|Gordon Ramsay Hel...|2018|  5.0|         1396|\n",
      "+--------------------+--------------------+----+-----+-------------+\n",
      "\n"
     ]
    }
   ],
   "source": [
    "business_yoy_reviews_comparision = sqlContext.sql(\"\"\"select b.business_id, b.name as business_name, year(date) as year, r.stars, count(*) as total_reviews\n",
    "from reviews r\n",
    "join businesses b\n",
    "on b.business_id = r.business_id\n",
    "where r.stars>4 and r.business_id like 'vHz2RLtfUMVRPFmd7%'\n",
    "group by b.business_id, name, year(date), r.stars\n",
    "order by year desc, total_reviews desc\"\"\")\n",
    "business_yoy_reviews_comparision.show()"
   ]
  },
  {
   "cell_type": "code",
   "execution_count": 116,
   "metadata": {},
   "outputs": [
    {
     "name": "stdout",
     "output_type": "stream",
     "text": [
      "Tuesday\n"
     ]
    }
   ],
   "source": [
    "d = datetime.datetime.today()\n",
    "day_dic={0:'Sunday',1:'Monday',2:'Tuesday',3:'Wednesday',4:'Thursday',5:'Friday',6:'Saturday',}\n",
    "\n",
    "print(day_dic.get(int(d.strftime(\"%w\"))))"
   ]
  },
  {
   "cell_type": "code",
   "execution_count": 131,
   "metadata": {},
   "outputs": [
    {
     "name": "stdout",
     "output_type": "stream",
     "text": [
      "+--------------------+----------------------------------+\n",
      "|         business_id|split(hours.Friday AS `Friday`, -)|\n",
      "+--------------------+----------------------------------+\n",
      "|QXAEGFB4oINsVuTFx...|                        [9:0, 1:0]|\n",
      "|gnKjwL_1w79qoiV3I...|                     [17:30, 22:0]|\n",
      "|xvX2CttrVhyG2z1dF...|                       [8:0, 17:0]|\n",
      "|HhyxOkGAM07SRYtlQ...|                       [7:0, 23:0]|\n",
      "|68dUKd8_8liJ7in4a...|                       [9:0, 19:0]|\n",
      "|gbQN7vr_caG_A1ugS...|                      [10:0, 19:0]|\n",
      "|Y6iyemLX_oylRpnr3...|                      [10:0, 17:0]|\n",
      "|4GBVPIYRvzGh4K4Tk...|                       [9:0, 19:0]|\n",
      "|fcXOEZdXYeZqnQ3lG...|                       [9:0, 17:0]|\n",
      "|1Dfx3zM-rW4n-31Ke...|                        [7:0, 1:0]|\n",
      "|5t3KVdMnFgAYmSl1w...|                       [10:0, 1:0]|\n",
      "|fweCYi8FmbJXHCqLn...|                       [10:0, 1:0]|\n",
      "|-K4gAv8_vjx8-2Bxk...|                      [11:0, 17:0]|\n",
      "|A98xW4qb7vOTguggH...|                     [16:0, 21:30]|\n",
      "|giC3pVVFxCRR89rAp...|                       [8:0, 17:0]|\n",
      "|nh_kQ16QAoXWwqZ05...|                        [0:0, 0:0]|\n",
      "|zSpQmEBvRe3IhTUlM...|                       [6:0, 22:0]|\n",
      "|dFMxzHygTy6F87384...|                       [11:0, 1:0]|\n",
      "|lxnuq9wJiwLOPJ4uZ...|                       [9:0, 18:0]|\n",
      "|KWywu2tTEPWmR9JnB...|                      [19:30, 3:0]|\n",
      "+--------------------+----------------------------------+\n",
      "only showing top 20 rows\n",
      "\n"
     ]
    }
   ],
   "source": [
    "business_hours = sqlContext.sql(\"\"\"select business_id, split(hours.Friday, '-') from businesses where split(hours.Friday, '-')[0] is not null\"\"\")\n",
    "business_hours.show()"
   ]
  },
  {
   "cell_type": "code",
   "execution_count": 155,
   "metadata": {},
   "outputs": [
    {
     "name": "stdout",
     "output_type": "stream",
     "text": [
      "+--------------------+--------------------+-------------+---------------+--------+-----+-------------+\n",
      "|         business_id|       business_name|     latitude|      longitude|  Friday|stars|total_reviews|\n",
      "+--------------------+--------------------+-------------+---------------+--------+-----+-------------+\n",
      "|DkYS3arLOhA8si5uU...|    Earl of Sandwich|    36.109418|   -115.1718738| 0:0-0:0|  5.0|         2645|\n",
      "|f4x1YBxkLrZg652xt...|  Hash House A Go Go|36.1181806906|-115.1715797813| 0:0-0:0|  5.0|         2382|\n",
      "|5LNZ67Yw9RD6nf4_U...|The Cosmopolitan ...|   36.1097553|   -115.1738769| 0:0-0:0|  5.0|         2056|\n",
      "|JDZ6_yycNQFTpUZzL...|   El Dorado Cantina|36.1349154274|-115.1758220047| 0:0-0:0|  5.0|         1966|\n",
      "|awI4hHMfa7H0Xf0-C...|      The Oyster Bar|36.1431362393|-115.1747075477| 0:0-0:0|  5.0|         1621|\n",
      "|Wxxvi3LZbHNIDwJ-Z...|The Venetian Las ...|    36.121189|    -115.169657| 0:0-0:0|  5.0|         1563|\n",
      "|t-o_Sraneime4DDhW...|      Wynn Las Vegas|    36.127684|    -115.165905| 0:0-0:0|  5.0|         1555|\n",
      "|XXW_OFaYQkkGOGniu...|The Peppermill Re...|36.1336673317|-115.1630947555| 0:0-0:0|  5.0|         1333|\n",
      "|SMPbvZLSMMb7KU76Y...|ARIA Resort & Casino|    36.107621|     -115.17704| 0:0-0:0|  5.0|         1303|\n",
      "|na4Th5DrNauOv-c43...|      Bellagio Hotel|    36.112629|    -115.176706| 0:0-0:0|  5.0|         1230|\n",
      "|uGupeWqih0yIcCg8a...|The Palazzo Las V...|36.1239419536|-115.1677527961| 0:0-0:0|  5.0|         1192|\n",
      "|Az_60nNuh1FH8Ds8o...|              Encore|   36.1271069|   -115.1648303| 0:0-0:0|  5.0|          981|\n",
      "|WYw3Uf56DT5IwpaLN...|Vdara Hotel & Spa...| 36.109300818|-115.1781474492| 0:0-0:0|  5.0|          970|\n",
      "|NvKNe9DnQavC9Gstg...|      Grand Lux Cafe|    36.121822|    -115.168855| 0:0-0:0|  5.0|          964|\n",
      "|ybHlmdUHLPKfv85bR...|Grouchy John's Co...|   36.0350856|   -115.1357861|5:0-21:0|  5.0|          886|\n",
      "|bsrj9_hFAql3dlSf2...|Trump Internation...|    36.129559|    -115.172825| 0:0-0:0|  5.0|          800|\n",
      "|gG9z6zr_49LocyCTv...|Amélie's French B...|    35.241145|     -80.812057| 0:0-0:0|  5.0|          727|\n",
      "|VyjyHoBg3KC5BSFRl...|Caesars Palace La...|    36.116765|    -115.174595| 0:0-0:0|  5.0|          711|\n",
      "|yfxDa8RFOvJPQh0rN...|        Pho Kim Long|36.1261943318| -115.193445287| 0:0-0:0|  5.0|          697|\n",
      "|_3olhuCXhoqjy4M2r...|     The Golden Tiki|36.1261397025|-115.1922846883| 0:0-0:0|  5.0|          693|\n",
      "+--------------------+--------------------+-------------+---------------+--------+-----+-------------+\n",
      "only showing top 20 rows\n",
      "\n"
     ]
    }
   ],
   "source": [
    "#Select all business names which are open on Friday from 6 to 12 Midnight\n",
    "business_hours = sqlContext.sql(\"\"\"select b.*, stars, total_reviews from \n",
    "(select business_id, name as business_name, latitude, longitude, hours.Friday\n",
    "from businesses\n",
    "where int(split(split(hours.Friday, '-')[0], ':')[0]) < 6 and int(split(split(hours.Friday, '-')[0], ':')[1]) <= 0\n",
    "and int(split(split(hours.Friday, '-')[1], ':')[0]) >= 0) b\n",
    "join (select business_id, stars, count(*) as total_reviews from reviews where stars > 4 group by business_id, stars) r\n",
    "on b.business_id = r.business_id\n",
    "order by total_reviews desc\"\"\")\n",
    "business_hours.show()"
   ]
  },
  {
   "cell_type": "code",
   "execution_count": null,
   "metadata": {},
   "outputs": [],
   "source": [
    "categories = sqlContext.sql(\"\"\"select business_id, categories from businesses\"\"\")\n",
    "categories.show(10, False)"
   ]
  },
  {
   "cell_type": "code",
   "execution_count": null,
   "metadata": {},
   "outputs": [],
   "source": []
  }
 ],
 "metadata": {
  "kernelspec": {
   "display_name": "Python 3",
   "language": "python",
   "name": "python3"
  },
  "language_info": {
   "codemirror_mode": {
    "name": "ipython",
    "version": 3
   },
   "file_extension": ".py",
   "mimetype": "text/x-python",
   "name": "python",
   "nbconvert_exporter": "python",
   "pygments_lexer": "ipython3",
   "version": "3.7.3"
  }
 },
 "nbformat": 4,
 "nbformat_minor": 2
}
